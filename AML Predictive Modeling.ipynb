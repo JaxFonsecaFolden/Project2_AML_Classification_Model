{
 "cells": [
  {
   "cell_type": "markdown",
   "id": "6d8c5b26",
   "metadata": {},
   "source": [
    "## **Detecting Financial Crimes and Money Laundering**\n",
    "In today’s world, banks have become well integrated into the technological era. This significant shift created an easy way of securing and monitoring money. Conversely, the transition provided a gateway for cyber criminals to target account holders of any bank. There are many transgressions that fall under financial crimes, however this project will focus on *Money Laundering*, which is defined by the federal government as the willingness to engage in illegal activity, which provides monetary value, and disguises assets as legal sources of income (U.S. Treasury, n.d.). The primary objective of this research is *“How can we accurately detect fraudulent activity in regards to money laundering?”* Due to the nature of the crime, it poses great challenges in detection given that the 'numbers' always align. As a result, it is most important to take into consideration deterministic columns and the relationship between each transaction. The importance of creating a model that effectively classifies laundering charges allows for easier investigation given that in current times, there are more than million transactions that happen over one week of time, and organized crime groups use this to their advantage to hide their illegal activity. \n",
    "\n",
    "#### **History**\n",
    "\n",
    "Prior to uncovering such a prevalent issue, it is important to understand the origins of this type of financial crime. To launder money was to find some means of concealing one’s source of income and disguising it as something legal (FCA 2025). In doing so, this allowed illegal activity to happen under government regimes, and made it almost impossible to catch. The most notable timeframe in which money laundering played a big role in the history of the United States, was during the Prohibition era (FCA 2025). During this timeframe, the use of drinking alcoholic beverages was protested by mainly religious organizations as a way to revitalize the ‘ill parts’ of society (Britannica 2025). There is still uncertainty as to why alcohol was believed to resolve such societal issues, but what is known is that congress banned the consumption of alcohol. \n",
    "\n",
    "This consequently led to the most elaborate organized crime schemes in the United States, where mobsters distributed alcohol under the table. Concurrently, these small groups formed gangs hiring lawyers and accountants to hide their illegal activity (Roos, n.d.). This being the start of how money laundering integrated in the U.S. today. The amount of income from these organized groups funded hotels, casinos, and ultimately the black market (Roos, n.d.). In current times, this level of financial crime no longer exists given the changes within society and technological advancement. Although, attempts are still being made and now have become much more sophisticated to investigate. \n",
    "\n",
    "#### **Data**\n",
    "The data being used in this research comes from the open source website [Kaggle](https://www.kaggle.com/). Within this site, there were several suitable datasets, however, the one chosen for this project was created by Erik Altman, [IBM Transactions for Anti Money Laundering (AML)](https://www.kaggle.com/datasets/ealtman2019/ibm-transactions-for-anti-money-laundering-aml). He had created a virtual world reflective of the society and its entities (Altman 2021). The idea of this synthetic data is to simulate the different possibilities of money laundering, while also being able to confidently code the true successes of transactional fraud. Without any modifications to the dataset, there are no null values, making this dataset perfect for studying. As an important note, this dataset is in British English and this is reflective when exploring the dataset in the *Data Exploration.ipynb*."
   ]
  },
  {
   "cell_type": "code",
   "execution_count": 1,
   "id": "003e0385",
   "metadata": {},
   "outputs": [],
   "source": [
    "import pandas as pd\n",
    "import numpy as np\n",
    "\n",
    "accounts = pd.read_csv('Files_CSV/HI-Small_accounts.csv')\n",
    "transactions = pd.read_csv('Files_CSV/HI-Small_Trans.csv')"
   ]
  },
  {
   "cell_type": "markdown",
   "id": "5908bdee",
   "metadata": {},
   "source": [
    "#### *HI-Small_accounts.csv*\n",
    "Contains a total of 518,581 rows, which are representative of all the accounts utilized in the simulated transactions data. Since the simulation is reflective of society, this dataset also has 501 banks. Each bank has any number of accounts utilized under their bank, as well as any number of branching banks with the same name. However, the *HI-Small_accounts.csv* does encrypt each bank entity itself with a specialized number to distinguish it from other branching bank entities. In doing this, it does lead to a significant number of null values when splitting the banks from their specialized number. In contrast, this does not affect the dataset in any way, as it is a column there for assessing the relationships of each feature. Lastly, the data also contains the account type, also known as the reasoning for the existence of such an account. There are only 6 types: *Sole Proprietorship*, *Corporation*, *Partnership*, *Country*, *Individual*, and *Direct*."
   ]
  },
  {
   "cell_type": "code",
   "execution_count": 2,
   "id": "03e7b49c",
   "metadata": {},
   "outputs": [
    {
     "name": "stdout",
     "output_type": "stream",
     "text": [
      "Total Rows/Accounts: 518581\n",
      "Total Banks: 501\n"
     ]
    }
   ],
   "source": [
    "# Split Columns\n",
    "accounts[['Bank Name (2)', 'Bank Name (3)']] = accounts['Bank Name'].str.split('#', n=1, expand=True)\n",
    "\n",
    "print(f'Total Rows/Accounts: {len(accounts)}')\n",
    "print(f'Total Banks: {len(accounts['Bank Name (2)'].drop_duplicates())}')"
   ]
  },
  {
   "cell_type": "markdown",
   "id": "79e79ad2",
   "metadata": {},
   "source": [
    "#### *HI-Small_Trans.csv*\n",
    "This dataset consists of all the transactions in a simulated world of 18 days. It has 5,078,345 total transactions, which is a mixture of all accounts from the *HI-Small_accounts.csv*. In terms of fraud detection, *Is Laundering* is the column at hand for testing. It is a boolean variable coded as True (1) or False (0). From this data, there is a total of 5,177 fraudulent transactions, this being about 0.1% of the total data. In light of this, it creates challenges of optimizing predictive modeling. Nevertheless, these datasets are highly reflective of how ingrained and difficult catching money laundering schemes are."
   ]
  },
  {
   "cell_type": "code",
   "execution_count": 3,
   "id": "9c4fbc87",
   "metadata": {},
   "outputs": [
    {
     "name": "stdout",
     "output_type": "stream",
     "text": [
      "Total Rows: 5078345\n",
      "Total Laundering: 5177\n",
      "Percent of Laundering: 0.1%\n"
     ]
    }
   ],
   "source": [
    "transactions.rename(columns={'Account': 'Acc. Orig.', 'Account.1': 'Acc. End'}, inplace=True)\n",
    "count_ML = len(transactions[transactions['Is Laundering'] == 1])\n",
    "count_Trans = len(transactions)\n",
    "\n",
    "print(f'Total Rows: {count_Trans}')\n",
    "print(f'Total Laundering: {count_ML}')\n",
    "print(f'Percent of Laundering: {(count_ML/count_Trans)*100:.1f}%')"
   ]
  },
  {
   "cell_type": "markdown",
   "id": "08d8557d",
   "metadata": {},
   "source": [
    "#### **Initializing Datasets**\n",
    "\n",
    "In order to properly implement the findings in *Dataset Exploration.ipynb*, the two CSV files will be merged on the receiving payments. This is due to the nature of the crime, as money laundering gets caught based on where the money ends. This also means all columns not necessary to apply in the final version will be dropped immediately to reduce computation processing power. Afterwards, all columns will be converted to their respective data types. Lastly, two datasets will be utilized, one for identifying all fraudulent accounts and unique banks. This dataframe is reflective of the one leveraged in the page analyzing the data. The second dataset is a copy of the merged files, this is to preserve all original data."
   ]
  },
  {
   "cell_type": "code",
   "execution_count": 7,
   "id": "48be5530",
   "metadata": {},
   "outputs": [],
   "source": [
    "# Merge on Receiving Banks/Accounts\n",
    "end_merge = pd.merge(transactions, accounts, left_on='Acc. End', right_on='Account Number', how='left')\n",
    "end_df = end_merge.drop(['Timestamp', 'Acc. Orig.', 'Payment Currency', \n",
    "                      'Amount Paid', 'Amount Received', 'Account Number', 'Bank Name (3)', \n",
    "                      'Entity Name', 'Entity ID'], axis=1)\n",
    "\n",
    "# Standardization\n",
    "col_to_int = ['Bank ID', 'Is Laundering']\n",
    "end_df[col_to_int] = end_df[col_to_int].astype(int)\n",
    "\n",
    "# Laundering True & New Data\n",
    "isFraud = end_df[end_df['Is Laundering'] == 1]\n",
    "new_data = end_df.copy()"
   ]
  },
  {
   "cell_type": "markdown",
   "id": "916b972e",
   "metadata": {},
   "source": [
    "#### **Feature Engineering**\n",
    "\n",
    "As stated prior, in depth analysis of which features will be included are in the *Dataset Exploration* file. The features encompassed are *Is ACH*, *Bank Diff*, *Sus. Acc.*, *Sus. Bank*, and *Sus. Corp.*. All columns will be created as boolean variables, except for identifying suspicious corporations. Due to there being a wide range of the number of transactions per corporation, this column will be mapped as four choices. Each represents different signifying parts of the boxplot and the absence of laundering attacks. In this way, corporations can be taken into account with different weights."
   ]
  },
  {
   "cell_type": "code",
   "execution_count": 8,
   "id": "5a25fcff",
   "metadata": {},
   "outputs": [
    {
     "data": {
      "application/vnd.microsoft.datawrangler.viewer.v0+json": {
       "columns": [
        {
         "name": "index",
         "rawType": "int64",
         "type": "integer"
        },
        {
         "name": "Is Laundering",
         "rawType": "int64",
         "type": "integer"
        },
        {
         "name": "Is ACH",
         "rawType": "bool",
         "type": "boolean"
        },
        {
         "name": "Bank Diff",
         "rawType": "bool",
         "type": "boolean"
        },
        {
         "name": "Sus. Acc.",
         "rawType": "bool",
         "type": "boolean"
        },
        {
         "name": "Sus. Bank",
         "rawType": "bool",
         "type": "boolean"
        },
        {
         "name": "Sus. Corp.",
         "rawType": "int64",
         "type": "integer"
        }
       ],
       "ref": "92298df1-4fe5-4f82-8b2d-aa50b0b45c0b",
       "rows": [
        [
         "0",
         "0",
         "False",
         "False",
         "False",
         "True",
         "3"
        ],
        [
         "1",
         "0",
         "False",
         "True",
         "False",
         "True",
         "3"
        ],
        [
         "2",
         "0",
         "False",
         "False",
         "False",
         "False",
         "3"
        ],
        [
         "3",
         "0",
         "False",
         "False",
         "True",
         "True",
         "3"
        ],
        [
         "4",
         "0",
         "False",
         "False",
         "False",
         "True",
         "3"
        ],
        [
         "5",
         "0",
         "False",
         "False",
         "False",
         "True",
         "3"
        ],
        [
         "6",
         "0",
         "False",
         "False",
         "False",
         "True",
         "3"
        ],
        [
         "7",
         "0",
         "False",
         "False",
         "False",
         "True",
         "3"
        ],
        [
         "8",
         "0",
         "False",
         "True",
         "False",
         "True",
         "3"
        ],
        [
         "9",
         "0",
         "False",
         "True",
         "False",
         "True",
         "3"
        ],
        [
         "10",
         "0",
         "False",
         "True",
         "False",
         "True",
         "3"
        ],
        [
         "11",
         "0",
         "False",
         "False",
         "False",
         "True",
         "3"
        ],
        [
         "12",
         "0",
         "False",
         "True",
         "False",
         "False",
         "1"
        ],
        [
         "13",
         "0",
         "False",
         "True",
         "False",
         "True",
         "1"
        ],
        [
         "14",
         "0",
         "False",
         "True",
         "False",
         "True",
         "2"
        ],
        [
         "15",
         "0",
         "False",
         "False",
         "False",
         "True",
         "3"
        ],
        [
         "16",
         "0",
         "False",
         "False",
         "False",
         "True",
         "3"
        ],
        [
         "17",
         "0",
         "False",
         "False",
         "False",
         "True",
         "3"
        ],
        [
         "18",
         "0",
         "False",
         "False",
         "False",
         "True",
         "3"
        ],
        [
         "19",
         "0",
         "False",
         "False",
         "False",
         "True",
         "3"
        ],
        [
         "20",
         "0",
         "False",
         "False",
         "False",
         "True",
         "3"
        ],
        [
         "21",
         "0",
         "False",
         "False",
         "False",
         "True",
         "3"
        ],
        [
         "22",
         "0",
         "False",
         "True",
         "False",
         "True",
         "3"
        ],
        [
         "23",
         "0",
         "False",
         "False",
         "False",
         "True",
         "3"
        ],
        [
         "24",
         "0",
         "False",
         "True",
         "False",
         "True",
         "2"
        ],
        [
         "25",
         "0",
         "False",
         "True",
         "False",
         "False",
         "2"
        ],
        [
         "26",
         "0",
         "False",
         "False",
         "False",
         "True",
         "3"
        ],
        [
         "27",
         "0",
         "False",
         "False",
         "False",
         "True",
         "2"
        ],
        [
         "28",
         "0",
         "True",
         "True",
         "False",
         "True",
         "3"
        ],
        [
         "29",
         "0",
         "False",
         "True",
         "False",
         "True",
         "3"
        ],
        [
         "30",
         "0",
         "False",
         "False",
         "False",
         "True",
         "3"
        ],
        [
         "31",
         "0",
         "False",
         "False",
         "False",
         "False",
         "2"
        ],
        [
         "32",
         "0",
         "True",
         "True",
         "False",
         "True",
         "2"
        ],
        [
         "33",
         "0",
         "False",
         "True",
         "False",
         "True",
         "3"
        ],
        [
         "34",
         "0",
         "False",
         "True",
         "False",
         "True",
         "3"
        ],
        [
         "35",
         "0",
         "False",
         "False",
         "False",
         "True",
         "3"
        ],
        [
         "36",
         "0",
         "False",
         "False",
         "False",
         "True",
         "1"
        ],
        [
         "37",
         "0",
         "False",
         "False",
         "False",
         "True",
         "3"
        ],
        [
         "38",
         "0",
         "False",
         "True",
         "False",
         "True",
         "3"
        ],
        [
         "39",
         "0",
         "False",
         "True",
         "False",
         "True",
         "3"
        ],
        [
         "40",
         "0",
         "False",
         "True",
         "False",
         "True",
         "3"
        ],
        [
         "41",
         "0",
         "False",
         "False",
         "False",
         "True",
         "2"
        ],
        [
         "42",
         "0",
         "False",
         "True",
         "False",
         "True",
         "3"
        ],
        [
         "43",
         "0",
         "False",
         "True",
         "False",
         "True",
         "1"
        ],
        [
         "44",
         "0",
         "False",
         "True",
         "False",
         "True",
         "3"
        ],
        [
         "45",
         "0",
         "False",
         "True",
         "False",
         "True",
         "3"
        ],
        [
         "46",
         "0",
         "False",
         "True",
         "False",
         "True",
         "2"
        ],
        [
         "47",
         "0",
         "False",
         "True",
         "False",
         "True",
         "3"
        ],
        [
         "48",
         "0",
         "False",
         "False",
         "False",
         "True",
         "3"
        ],
        [
         "49",
         "0",
         "False",
         "True",
         "False",
         "True",
         "2"
        ]
       ],
       "shape": {
        "columns": 6,
        "rows": 5078358
       }
      },
      "text/html": [
       "<div>\n",
       "<style scoped>\n",
       "    .dataframe tbody tr th:only-of-type {\n",
       "        vertical-align: middle;\n",
       "    }\n",
       "\n",
       "    .dataframe tbody tr th {\n",
       "        vertical-align: top;\n",
       "    }\n",
       "\n",
       "    .dataframe thead th {\n",
       "        text-align: right;\n",
       "    }\n",
       "</style>\n",
       "<table border=\"1\" class=\"dataframe\">\n",
       "  <thead>\n",
       "    <tr style=\"text-align: right;\">\n",
       "      <th></th>\n",
       "      <th>Is Laundering</th>\n",
       "      <th>Is ACH</th>\n",
       "      <th>Bank Diff</th>\n",
       "      <th>Sus. Acc.</th>\n",
       "      <th>Sus. Bank</th>\n",
       "      <th>Sus. Corp.</th>\n",
       "    </tr>\n",
       "  </thead>\n",
       "  <tbody>\n",
       "    <tr>\n",
       "      <th>0</th>\n",
       "      <td>0</td>\n",
       "      <td>False</td>\n",
       "      <td>False</td>\n",
       "      <td>False</td>\n",
       "      <td>True</td>\n",
       "      <td>3</td>\n",
       "    </tr>\n",
       "    <tr>\n",
       "      <th>1</th>\n",
       "      <td>0</td>\n",
       "      <td>False</td>\n",
       "      <td>True</td>\n",
       "      <td>False</td>\n",
       "      <td>True</td>\n",
       "      <td>3</td>\n",
       "    </tr>\n",
       "    <tr>\n",
       "      <th>2</th>\n",
       "      <td>0</td>\n",
       "      <td>False</td>\n",
       "      <td>False</td>\n",
       "      <td>False</td>\n",
       "      <td>False</td>\n",
       "      <td>3</td>\n",
       "    </tr>\n",
       "    <tr>\n",
       "      <th>3</th>\n",
       "      <td>0</td>\n",
       "      <td>False</td>\n",
       "      <td>False</td>\n",
       "      <td>True</td>\n",
       "      <td>True</td>\n",
       "      <td>3</td>\n",
       "    </tr>\n",
       "    <tr>\n",
       "      <th>4</th>\n",
       "      <td>0</td>\n",
       "      <td>False</td>\n",
       "      <td>False</td>\n",
       "      <td>False</td>\n",
       "      <td>True</td>\n",
       "      <td>3</td>\n",
       "    </tr>\n",
       "    <tr>\n",
       "      <th>...</th>\n",
       "      <td>...</td>\n",
       "      <td>...</td>\n",
       "      <td>...</td>\n",
       "      <td>...</td>\n",
       "      <td>...</td>\n",
       "      <td>...</td>\n",
       "    </tr>\n",
       "    <tr>\n",
       "      <th>5078353</th>\n",
       "      <td>0</td>\n",
       "      <td>False</td>\n",
       "      <td>True</td>\n",
       "      <td>False</td>\n",
       "      <td>False</td>\n",
       "      <td>3</td>\n",
       "    </tr>\n",
       "    <tr>\n",
       "      <th>5078354</th>\n",
       "      <td>0</td>\n",
       "      <td>False</td>\n",
       "      <td>True</td>\n",
       "      <td>False</td>\n",
       "      <td>False</td>\n",
       "      <td>3</td>\n",
       "    </tr>\n",
       "    <tr>\n",
       "      <th>5078355</th>\n",
       "      <td>0</td>\n",
       "      <td>False</td>\n",
       "      <td>True</td>\n",
       "      <td>False</td>\n",
       "      <td>False</td>\n",
       "      <td>3</td>\n",
       "    </tr>\n",
       "    <tr>\n",
       "      <th>5078356</th>\n",
       "      <td>0</td>\n",
       "      <td>False</td>\n",
       "      <td>False</td>\n",
       "      <td>False</td>\n",
       "      <td>False</td>\n",
       "      <td>3</td>\n",
       "    </tr>\n",
       "    <tr>\n",
       "      <th>5078357</th>\n",
       "      <td>0</td>\n",
       "      <td>False</td>\n",
       "      <td>True</td>\n",
       "      <td>False</td>\n",
       "      <td>False</td>\n",
       "      <td>3</td>\n",
       "    </tr>\n",
       "  </tbody>\n",
       "</table>\n",
       "<p>5078358 rows × 6 columns</p>\n",
       "</div>"
      ],
      "text/plain": [
       "         Is Laundering  Is ACH  Bank Diff  Sus. Acc.  Sus. Bank  Sus. Corp.\n",
       "0                    0   False      False      False       True           3\n",
       "1                    0   False       True      False       True           3\n",
       "2                    0   False      False      False      False           3\n",
       "3                    0   False      False       True       True           3\n",
       "4                    0   False      False      False       True           3\n",
       "...                ...     ...        ...        ...        ...         ...\n",
       "5078353              0   False       True      False      False           3\n",
       "5078354              0   False       True      False      False           3\n",
       "5078355              0   False       True      False      False           3\n",
       "5078356              0   False      False      False      False           3\n",
       "5078357              0   False       True      False      False           3\n",
       "\n",
       "[5078358 rows x 6 columns]"
      ]
     },
     "execution_count": 8,
     "metadata": {},
     "output_type": "execute_result"
    }
   ],
   "source": [
    "# Frequency of Payment Formats\n",
    "new_data['Is ACH'] = end_df['Payment Format'] == 'ACH'\n",
    "\n",
    "# 'To/From Bank' Difference\n",
    "new_data['Bank Diff'] = end_df['To Bank'] != end_df['From Bank']\n",
    "\n",
    "# Suspicious Accounts\n",
    "list_sus_acc = isFraud['Acc. End'].drop_duplicates().tolist()\n",
    "new_data['Sus. Acc.'] = end_df['Acc. End'].isin(list_sus_acc)\n",
    "\n",
    "# Suspicious To Banks IDs\n",
    "list_sus_banks = isFraud['Bank ID'].drop_duplicates().tolist()\n",
    "new_data['Sus. Bank'] = end_df['Bank ID'].isin(list_sus_banks)\n",
    "\n",
    "# Suspicious Corporations\n",
    "sus_corps = isFraud.groupby('Bank Name (2)')['Bank Name (2)'].value_counts()\n",
    "sus_corps_df = sus_corps.to_frame()\n",
    "temp_merge = pd.merge(end_df, sus_corps_df, on='Bank Name (2)', how='left')\n",
    "conditions = [\n",
    "    (temp_merge['count'].isna()) | (temp_merge['count'] == 0),\n",
    "    (temp_merge['count'] > 0) & (temp_merge['count'] <= 5),\n",
    "    (temp_merge['count'] > 5) & (temp_merge['count'] <= 12),\n",
    "    (temp_merge['count'] > 12)\n",
    "]\n",
    "choices = [0, 1, 2, 3]\n",
    "new_data['Sus. Corp.'] = np.select(conditions, choices, default=np.nan)\n",
    "new_data['Sus. Corp.'] = new_data['Sus. Corp.'].astype(int) \n",
    "\n",
    "# Drop Uneccessary Columns\n",
    "col_drop = ['Acc. End', 'From Bank', 'To Bank', 'Receiving Currency', 'Payment Format', 'Bank Name', 'Bank ID', 'Bank Name (2)']\n",
    "model_data = new_data.drop(columns=col_drop, axis=1)\n",
    "model_data"
   ]
  },
  {
   "cell_type": "markdown",
   "id": "92774500",
   "metadata": {},
   "source": [
    "## **Random Forest Modeling**\n",
    "\n",
    "This type of classification modeling was chosen for its capabilities in classification and high accuracy in a dataset with a significant amount of variance. At the same time, from the feature exploration, it is unsurprising that certain features in the model data aren’t as strong predictors, which is generally best handled by random forest modeling because of its ability to estimate how strong a feature is. This is critical when assessing transaction amounts and involved corporations. Considering the offense's characteristics, money laundering is as little as $1.00 and as much as thousands of dollars. In terms of corporations, banks are utilized either unsuspectingly or in association with such crimes causing there to be an enormous range of fraudulent transaction counts. The methods organized crime groups employ to disguise fraudulent transactions must maintain consistency with regular ones. Since there are millions of transactions made within one week, criminals will leverage that volume of traffic by laundering money over days to remain undetected. Thus, *Random Forest Modeling* is the best fit for detecting fraudulent activities.\n",
    "\n",
    "*Random Forest Modeling* utilizes two concepts which prevents it from being a singular, overfitting tree. These are bagging and feature randomness. Bagging is the slang term for bootstrap aggregating. It consists of creating several datasets using the existing data, but randomly selects certain features for each created dataset. This feature randomness causes there to be a potential for one feature to appear across multiple datasets. Random Forest relies on its ability to lower variance, due to there being several random trees, making this model great for datasets that have a lot of variance in classification. It also contains more or less averaging where it looks at the majority vote of all the trees. I believe the averaging allows for people to see the accuracy of prediction.\n",
    "\n",
    "In this model, there are several cons to this methodology, the most important for this project is the computational power. Since there are two different randomness factors, a significant amount of testing needs to be implemented to decide the parameter specifics. These parameters include the number of trees, the depth of each tree, and the number of features that should be incorporated in each tree. Another important con is interpretability of the random forest modeling, as this research cannot outline each tree and which factors are most significant to making the model successful. This is the result of why randomness works well, but also makes it harder to comprehend. Alongside single tree classification, there is a possibility of overfitting, however, the chances of this happening is lowered due to there being several trees created to prevent such an occurrence."
   ]
  },
  {
   "cell_type": "code",
   "execution_count": 9,
   "id": "a6c68d82",
   "metadata": {},
   "outputs": [
    {
     "name": "stdout",
     "output_type": "stream",
     "text": [
      "Fitting 3 folds for each of 25 candidates, totalling 75 fits\n",
      "\n",
      "Best Parameters Found:\n",
      "{'class_weight': 'balanced', 'max_depth': 10, 'min_samples_leaf': 5, 'min_samples_split': 9, 'n_estimators': 71}\n",
      "\n",
      "Classification Report (Optimized Model):\n",
      "              precision    recall  f1-score   support\n",
      "\n",
      "           0       1.00      0.99      0.99   1521886\n",
      "           1       0.09      1.00      0.16      1622\n",
      "\n",
      "    accuracy                           0.99   1523508\n",
      "   macro avg       0.54      0.99      0.58   1523508\n",
      "weighted avg       1.00      0.99      0.99   1523508\n",
      "\n",
      "Test Set ROC AUC Score: 0.9982\n"
     ]
    }
   ],
   "source": [
    "from sklearn.ensemble import RandomForestClassifier\n",
    "from sklearn.model_selection import RandomizedSearchCV, train_test_split\n",
    "from sklearn.metrics import classification_report, confusion_matrix\n",
    "from scipy.stats import randint \n",
    "\n",
    "X = model_data.drop('Is Laundering', axis=1)\n",
    "y = model_data['Is Laundering']\n",
    "X_train, X_test, y_train, y_test = train_test_split(X, y, test_size=0.3, random_state=42)\n",
    "\n",
    "param_dist = {\n",
    "    'n_estimators': randint(50, 100), \n",
    "    'max_depth': [10, 20, 30, None], \n",
    "    'min_samples_split': randint(2, 20),\n",
    "    'min_samples_leaf': randint(1, 10),\n",
    "    'class_weight': ['balanced', 'balanced_subsample', None] \n",
    "}\n",
    "random_search = RandomizedSearchCV(\n",
    "    estimator=RandomForestClassifier(random_state=42),\n",
    "    param_distributions=param_dist,\n",
    "    n_iter=25,       \n",
    "    cv=3,            \n",
    "    scoring='roc_auc',\n",
    "    verbose=2,\n",
    "    n_jobs=-1 \n",
    ")\n",
    "random_search.fit(X_train, y_train) \n",
    "best_model = random_search.best_estimator_\n",
    "print(\"\\nBest Parameters Found:\")\n",
    "print(random_search.best_params_)\n",
    "\n",
    "# 6. Make predictions on the test set using the optimized model\n",
    "y_pred = best_model.predict(X_test)\n",
    "y_pred_proba = best_model.predict_proba(X_test)[:, 1] # Use probabilities for AUC\n",
    "\n",
    "print(\"\\nClassification Report (Optimized Model):\")\n",
    "print(classification_report(y_test, y_pred))\n",
    "\n",
    "# Note: You can also calculate the final ROC AUC score on the test set\n",
    "from sklearn.metrics import roc_auc_score\n",
    "test_auc = roc_auc_score(y_test, y_pred_proba)\n",
    "print(f\"Test Set ROC AUC Score: {test_auc:.4f}\")"
   ]
  },
  {
   "cell_type": "markdown",
   "id": "ed5ec41f",
   "metadata": {},
   "source": [
    "**Classification Report**: Prior to running the model, a hyperparameter test was done to optimize random forest. It was found that the number of trees needed for the best results is 71. The classification report shows an increase of 0.05 in precision from the first attempt. On the other hand, the recall has significantly improved from 0.04 to 1, meaning that this model has successfully detected all fraudulent transactions. These results signify great improvement in fraud detection. However, the model runs into issues of too many false positives, which is demonstrated in the confusion matrix."
   ]
  },
  {
   "cell_type": "code",
   "execution_count": 10,
   "id": "2f98b905",
   "metadata": {},
   "outputs": [
    {
     "data": {
      "image/png": "[encoded data removed]",
      "text/plain": [
       "<Figure size 800x800 with 2 Axes>"
      ]
     },
     "metadata": {},
     "output_type": "display_data"
    }
   ],
   "source": [
    "import matplotlib.pyplot as plt\n",
    "from sklearn.metrics import confusion_matrix, ConfusionMatrixDisplay\n",
    "\n",
    "cm = confusion_matrix(y_test, y_pred)\n",
    "class_names = ['Not Laundering (0)', 'Laundering (1)']\n",
    "disp = ConfusionMatrixDisplay(confusion_matrix=cm, display_labels=class_names)\n",
    "fig, ax = plt.subplots(figsize=(8, 8))\n",
    "disp.plot(cmap=plt.cm.Blues, ax=ax) \n",
    "plt.title('Random Forest Confusion Matrix')\n",
    "plt.show()"
   ]
  },
  {
   "cell_type": "markdown",
   "id": "63daa6b1",
   "metadata": {},
   "source": [
    "**Confusion Matrix**: This chart provides an in-depth understanding of the model's categorization. When looking at this diagram as a whole, there are no false positives, again meaning that the model did not miss a fraudulent charge. However, running into the tradeoff of there being a significant number of false positives (FP=17,254), which is approximately 1.13% of the testing dataset. Even though it is a little more than one percent of the transactions that were classified as false positives, it is still a significant amount when looking at the count. Fortunately, the model showed no false negatives when detecting money laundering."
   ]
  },
  {
   "cell_type": "code",
   "execution_count": 12,
   "id": "f4d06150",
   "metadata": {},
   "outputs": [
    {
     "data": {
      "image/png": "[encoded data removed]",
      "text/plain": [
       "<Figure size 800x600 with 1 Axes>"
      ]
     },
     "metadata": {},
     "output_type": "display_data"
    }
   ],
   "source": [
    "import matplotlib.pyplot as plt\n",
    "from sklearn.metrics import roc_curve, roc_auc_score\n",
    "\n",
    "y_pred_proba = best_model.predict_proba(X_test)[:, 1]\n",
    "fpr, tpr, _ = roc_curve(y_test, y_pred_proba)\n",
    "auc_score = roc_auc_score(y_test, y_pred_proba)\n",
    "\n",
    "plt.figure(figsize=(8, 6))\n",
    "plt.plot(fpr, tpr, label=f'Random Forest (AUC = {auc_score:.2f})')\n",
    "plt.plot([0, 1], [0, 1], 'k--', label='Random Classifier (AUC = 0.50)')\n",
    "plt.xlabel('False Positive Rate (FPR)')\n",
    "plt.ylabel('True Positive Rate (TPR)')\n",
    "plt.title('Receiver Operating Characteristic (ROC) Curve')\n",
    "plt.legend(loc=\"lower right\")\n",
    "plt.show()"
   ]
  },
  {
   "cell_type": "markdown",
   "id": "1b1218f8",
   "metadata": {},
   "source": [
    "**ROC Curve & AUC**: The ROC curve represents the true positive rate over the false positive rate over the false positive rate, which measures the model’s performance. Signifying how well it did at classifying the data. In comparative terms, feature engineering had increased the curve up to an almost perfect score of 0.9982, and the first attempt at only about 0.59. The AUC score measures the area underneath the ROC curve. It similarly evaluates the performance of the model, except it quantifies how perfect a model is compared to random guessing. The closer the AUC score is to one, the more predictive a model is.\n",
    "\n",
    "## **Ending Results**\n",
    "Overall, the results from the classification report, confusion matrix, and ROC curve have increased significantly since the first attempt, which contained no feature engineering. This significant increase has determined that it is possible to utilize machine learning in money laundering detection, but with specialized feature engineering. As it is important to consider that the first attempt was unsuccessful due the row data having too much variance. Another factor to consider is that deploying a machine model has its limitations to interpretation as the results still show about 1.13% of false positives, and while that may not seem like much, the count itself is over 17,000+ transactions to assess. Random forest modeling would not be utilized as the only deciding factor in what is and is not a money laundering attempt, as it is equally important to have human analysis and investigations of how a particular person or entity was able to receive such income.\n",
    "\n",
    "## **Impact**\n",
    "\n",
    "As seen in the results, this predictive modeling was successful, at the cost of a high number of false positives. Fortunately, the percentage of false positives from true positives is less than 2%. From how money laundering is committed and the intricacies involved, it may not be possible to build a model that truly captures every intentionally fraudulent transaction without having a high false positive rate. After all, money laundering is one of the few organized crimes which involves groups of people and entities. They follow particular steps to deter suspicious activity and often utilize several banking corporations or banking locations without their knowledge. These crimes are often kept well under the radar because of the significant number of parties involved and the businesses these criminals disguise illegal income as. \n",
    "\n",
    "In terms of positive impacts, this study can be used for future research to assist in the relational aspects of money laundering transactions. As seen in the feature discovery, only a minimal percentage of banks and account numbers are utilized for fraudulent activity. This suggests that entities involved may even be bankers coinciding with criminal activity, leading to a more extensive investigation. Concurrently, this project looks at potential features provided, while a fake dataset gives an in-depth analysis of why such columns are important in fraud detection, allowing for more informed modeling for future researchers. \n",
    "\n",
    "## **References**\n",
    "\n",
    "Altman, E. (2021). IBM transactions for anti-money laundering (AML) [Data set]. Kaggle. https://www.kaggle.com/datasets/ealtman2019/ibm-transactions-for-anti-money-laundering-aml\n",
    "\n",
    "Britannica. (2024). Prohibition: United States history [1920–1933]. Encyclopedia Britannica. https://www.britannica.com/event/Prohibition-United-States-history-1920-1933\n",
    "\n",
    "Financial Crime Academy. (n.d.). The history of money laundering. https://financialcrimeacademy.org/the-history-of-money-laundering-2/\n",
    "\n",
    "GeeksforGeeks. (2025). What is Feature Engineering? GeeksforGeeks. Retrieved from https://www.geeksforgeeks.org/machine-learning/what-is-feature-engineering/\n",
    "\n",
    "HISTORY. (2023, June 7). How Prohibition fueled the rise of the American mob. HISTORY. https://www.history.com/articles/prohibition-organized-crime-al-capone\n",
    "\n",
    "U.S. Department of the Treasury. (2021, November 29). Money laundering. https://home.treasury.gov/policy-issues/terrorism-and-illicit-finance/money-laundering"
   ]
  }
 ],
 "metadata": {
  "kernelspec": {
   "display_name": ".venv",
   "language": "python",
   "name": "python3"
  },
  "language_info": {
   "codemirror_mode": {
    "name": "ipython",
    "version": 3
   },
   "file_extension": ".py",
   "mimetype": "text/x-python",
   "name": "python",
   "nbconvert_exporter": "python",
   "pygments_lexer": "ipython3",
   "version": "3.13.7"
  }
 },
 "nbformat": 4,
 "nbformat_minor": 5
}
